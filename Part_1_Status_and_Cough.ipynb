{
  "cells": [
    {
      "cell_type": "markdown",
      "metadata": {
        "id": "view-in-github",
        "colab_type": "text"
      },
      "source": [
        "<a href=\"https://colab.research.google.com/github/niheon/ds-ml-dl/blob/main/Part_1_Status_and_Cough.ipynb\" target=\"_parent\"><img src=\"https://colab.research.google.com/assets/colab-badge.svg\" alt=\"Open In Colab\"/></a>"
      ]
    },
    {
      "cell_type": "markdown",
      "metadata": {
        "id": "eWBgcH6jmMp1"
      },
      "source": [
        "#COVID-19 Status and Cough Recordings\n"
      ]
    },
    {
      "cell_type": "markdown",
      "metadata": {
        "id": "j2QMOpp9mMp_"
      },
      "source": [
        "## Import Packages \n",
        "\n",
        "First we import all required Python packages that we need during the project. "
      ]
    },
    {
      "cell_type": "code",
      "execution_count": null,
      "metadata": {
        "id": "pPdhOKX-mMqB"
      },
      "outputs": [],
      "source": [
        "import pandas as pd                # the pandas package provides tools for storing and manipulating dataframes\n",
        "import numpy as np                 # numpy package for working with arrays of numbers \n",
        "from scipy.io import wavfile       # package for reading in data from audio files (*.wav)\n",
        "from scipy.fft import fft, fftfreq # package for fast methods to compute discrete Fourier transform\n",
        "import matplotlib.pyplot as plt    # package for functions to plot numeric data\n",
        "import os                          # package for using filesystem\n",
        "from sklearn.model_selection import train_test_split # function to split data into a training and a testset\n",
        "from sklearn.linear_model import LogisticRegression  # package for logistic regression\n",
        "from sklearn import tree                             # package for decision trees "
      ]
    },
    {
      "cell_type": "markdown",
      "metadata": {
        "id": "4A3Ai2BhmMqE"
      },
      "source": [
        "## Step 1 - \"Read In\"\n",
        "\n",
        "Let us first read in the metadata stored in the file \"Covid19Study.csv\". The metadata contains a list of individuals along with their age, sex (\"m\" or \"f\") and their Covid19 infection status (\"y\" or \"n\"). The invidiuals are number by an index $l = 1,\\ldots,m$ with the sample size $m$. "
      ]
    },
    {
      "cell_type": "code",
      "execution_count": null,
      "metadata": {
        "colab": {
          "base_uri": "https://localhost:8080/"
        },
        "id": "yEWtWv1PmMqG",
        "outputId": "9627e41c-3010-4fc1-9062-00c927f1e290"
      },
      "outputs": [
        {
          "output_type": "stream",
          "name": "stdout",
          "text": [
            "   ParticipantID  Age Sex Covid19\n",
            "0              1   29   f       y\n",
            "1              2   40   m       y\n",
            "2              3   37   f       n\n",
            "3              4   40   m       n\n",
            "4              5   16   m       y\n"
          ]
        }
      ],
      "source": [
        "df = pd.read_csv('Covid19Study_June2021.csv',sep=';')    # read in data from Covid19Study.csv into dataframe \"df\"\n",
        "print(df.head(5))\n",
        "uniquepart = df[\"ParticipantID\"].unique()       # determine a list of all individuals\n",
        "\n",
        "samplesize = len(uniquepart)                    # count the number of individuals and store in the variable `samplesize`\n",
        "#samplesize= 5"
      ]
    },
    {
      "cell_type": "markdown",
      "metadata": {
        "id": "znx643RsmMqK"
      },
      "source": [
        "The code snippet below uses the `dataframe` method [`value_counts()`](https://pandas.pydata.org/pandas-docs/stable/reference/api/pandas.DataFrame.value_counts.html) to determine and plot a histogram for the attribute \"Covid19\" of all individuals. We then use the `numpy` method histogram to compute the histogram for the colum (attribute) \"Age\". This method returns a numpy array whose elements are the counts for each histogram interval. We then plot this numpy array as a bar plot using [`ax.bar()`](https://matplotlib.org/stable/gallery/lines_bars_and_markers/barchart.html#sphx-glr-gallery-lines-bars-and-markers-barchart-py)."
      ]
    },
    {
      "cell_type": "code",
      "execution_count": null,
      "metadata": {
        "colab": {
          "base_uri": "https://localhost:8080/",
          "height": 773
        },
        "id": "-zWLWr0bmMqM",
        "outputId": "c32c8e34-a108-4970-f0f1-58ad865164f3"
      },
      "outputs": [
        {
          "output_type": "stream",
          "name": "stdout",
          "text": [
            "[ 96 100   4]\n",
            "[0 1 2]\n",
            "0      29\n",
            "1      40\n",
            "2      37\n",
            "3      40\n",
            "4      16\n",
            "       ..\n",
            "195    20\n",
            "196    33\n",
            "197    27\n",
            "198    49\n",
            "199    31\n",
            "Name: Age, Length: 200, dtype: int64\n"
          ]
        },
        {
          "output_type": "execute_result",
          "data": {
            "text/plain": [
              "[Text(0, 0, '0-30'), Text(0, 0, '31-50'), Text(0, 0, '51-150')]"
            ]
          },
          "metadata": {},
          "execution_count": 8
        },
        {
          "output_type": "display_data",
          "data": {
            "image/png": "[encoded data removed]",
            "text/plain": [
              "<Figure size 432x288 with 1 Axes>"
            ]
          },
          "metadata": {
            "needs_background": "light"
          }
        },
        {
          "output_type": "display_data",
          "data": {
            "image/png": "[encoded data removed]",
            "text/plain": [
              "<Figure size 432x288 with 1 Axes>"
            ]
          },
          "metadata": {
            "needs_background": "light"
          }
        }
      ],
      "source": [
        "counts = df['Covid19'].value_counts()        # use value_counts () to compute a histogram of attribute \"Covid19\"\n",
        "labelvals = df['Covid19'].unique()           # use unique() to determine a list of different attribute values \n",
        "ax = counts.plot.bar(x='lab', y='val', rot=0)# use counts.plot.bar() to plot the histogram of attribute \"Covid19\"\n",
        "\n",
        "ages= df['Age']                              # extract the attribute column \"Age\" from df and store in variable \"ages\"\n",
        "histage=np.histogram(ages,[0,30,50,150] )    # use np.histogram() to compute histogram with intervals 0-30,31-50,51-150\n",
        "histage = histage[0]\n",
        "                    \n",
        "print(histage)\n",
        "x = np.arange(len(histage))                # create a numpay array with values 1,2,3 \n",
        "\n",
        "print(x)\n",
        "print(ages)\n",
        "\n",
        "agegroups = ['0-30', '31-50', '51-150']     # create a list with histogram interval labels \"0-30\", \"31-50\", \"51-150\"\n",
        "\n",
        "fig, ax = plt.subplots()                           # create a figure and axis ojbect using plt.subplots()\n",
        "rects1 = ax.bar(x,histage, 0.3, label=\"Age Groups\")# plot the Age histrogrum using \"ax.bar() ax.set_xticks(x)\n",
        "ax.set_xticks(x)\n",
        "ax.set_xticklabels(agegroups)                      # add labels for histogram intervals using ax.set_xticklabels()"
      ]
    },
    {
      "cell_type": "markdown",
      "metadata": {
        "id": "eRqNizV8mMqQ"
      },
      "source": [
        "The code snippet below iterates over the first four participants that are listed in the metadata stored in `Covid19Study_June2021.csv`. For each participant, we first probe if there is a \".wav\" file with the filename \"ParticipantRecording??.wav\" in the folder `/Recordings`. Here `??` represents a running index starting from 1. Probing if a file with given name exists can be done with the function [`os.path.isfile(filename)`](https://livebook.manning.com/book/hello-world/chapter-24/point-9977-115-115-0). If we can find such a file for an participant, we plot the **last** $N=8192$ signal samples. If there is no \".wav\" file present for an participant, we plot a \"virtual\" recording whose signal samples are all equal to zero. "
      ]
    },
    {
      "cell_type": "code",
      "execution_count": null,
      "metadata": {
        "colab": {
          "base_uri": "https://localhost:8080/",
          "height": 334
        },
        "id": "V-xycP8BmMqR",
        "outputId": "f3a9a549-7262-44da-a09f-cd8b987d9986"
      },
      "outputs": [
        {
          "output_type": "stream",
          "name": "stdout",
          "text": [
            "no file\n",
            "no file\n",
            "no file\n",
            "no file\n"
          ]
        },
        {
          "output_type": "display_data",
          "data": {
            "image/png": "[encoded data removed]",
            "text/plain": [
              "<Figure size 432x288 with 1 Axes>"
            ]
          },
          "metadata": {
            "needs_background": "light"
          }
        }
      ],
      "source": [
        "N = 8192\n",
        "\n",
        "pathbase = os.path.join(os.getcwd(), \"Recordings/\")# create full path of the folder \"Recordings\" and store in \"pathbase\"\n",
        "\n",
        "SignalSamples = np.zeros((samplesize,N)) # create all-zeroes numpy array `SignalSamples' of shape (m,N) \n",
        "t = np.arange(N)      # create a list of signal sample indices 0,2,...,N-1\n",
        "\n",
        "# the for loop uses the iteration counter participationid_m1 which is the participant id minus 1 \n",
        "\n",
        "for participantid_m1 in range(4): \n",
        "    \n",
        "    # first construct filename for current participant\n",
        "    # the filename consists of three parts: 1. \"RecordingParicipant\", 2. the participant index, 3. \".wav\"\n",
        "    # the wav file for the first participant is \"RecordingParicipant1.wav\", for the second participant it is \n",
        "    # \"RecordingParicipant2.wav\" and so on. \n",
        "    \n",
        "    partfilename = \"RecordingParticipant%d\"%(participantid_m1+1)\n",
        "    # construct full path by concatenating path with filename\n",
        "    fullfilename = pathbase+partfilename + \".wav\"\n",
        "    # check if there is a file with given filename \n",
        "    if os.path.isfile(fullfilename):\n",
        "        # load the recording from the wav file\n",
        "        fs, data = wavfile.read(fullfilename)     \n",
        "        # store the last N signal samples in the corresponding row of the numpy array 'SignalSamples'\n",
        "        SignalSamples[participantid_m1,:] = data[-(N+1):-1] \n",
        "    else:\n",
        "        print(\"no file\")     \n",
        "    plt.plot(t, SignalSamples[participantid_m1,:],label=\"Participant %d\"%(participantid_m1+1)) # add the last N samples of the recording to the plot \n",
        "plt.legend()    # add legend plot \n",
        "plt.show()      # show plot\n",
        "   \n",
        "  #  X_steps[sampleidx,:] = x1[:]\n",
        "   # print(x1)\n",
        "    #fullpath = os.path.join(pathbase,filename,\".csv\")"
      ]
    },
    {
      "cell_type": "markdown",
      "metadata": {
        "id": "cH4BbFJpmMqU"
      },
      "source": [
        "## Step 2 - \"Features and Labels\" \n",
        "\n",
        "We now construct a feature vector for each participant listed in `Covid19Study_June2021.csv` using the Fourier transform of the audio recording stored in the corresponding wav file. For each participant, there is a separate wav file. Let us denote the audio recording of a participant by $x[0],\\ldots,x[N-1]$ with $N=8192$. The signal values $x[0],\\ldots,x[N-1]$ are obtained from the last $N$ signal samples stored in the corresponding wav file. \n",
        "\n",
        "A popular construction for the features of audio recordings is via the discrete Fourier transform \n",
        "$$X[k] = \\sum_{n=0}^{N-1} x[n] \\exp( - j 2 \\pi n k /N).$$ \n",
        "We then form the features characterizing the participant by normalized absolute values $(1/c) |X[k]|$ for $k=400,600,800,1000$ with the normalization constant $c = \\max_{k=0,\\ldots,N-1} |X[k]|$. \n",
        "\n",
        "We then store the feature vectors of all participants listed in `Covid19Study_June2021.csv` in the rows of the numpy array `X` with shape `(m,n)` where `n` is the length of the feature vectors. The code snippet also creates a numpy array `y` with shape `(m,1)`. The j-th entry of `y` is set to 1 if the corresponding individuals has value `y` for the attribute \"Covid19\". "
      ]
    },
    {
      "cell_type": "code",
      "execution_count": null,
      "metadata": {
        "colab": {
          "base_uri": "https://localhost:8080/",
          "height": 1000
        },
        "id": "DHXWvQjkmMqV",
        "outputId": "6a6d4f76-510e-4306-bef5-cc698bc8a838"
      },
      "outputs": [
        {
          "output_type": "stream",
          "name": "stdout",
          "text": [
            "no file\n",
            "no file\n",
            "no file\n",
            "no file\n",
            "no file\n",
            "no file\n",
            "no file\n",
            "no file\n",
            "no file\n",
            "no file\n",
            "no file\n",
            "no file\n",
            "no file\n",
            "no file\n",
            "no file\n",
            "no file\n",
            "no file\n",
            "no file\n",
            "no file\n",
            "no file\n",
            "no file\n",
            "no file\n",
            "no file\n",
            "no file\n",
            "no file\n",
            "no file\n",
            "no file\n",
            "no file\n",
            "no file\n",
            "no file\n",
            "no file\n",
            "no file\n",
            "no file\n",
            "no file\n",
            "no file\n",
            "no file\n",
            "no file\n",
            "no file\n",
            "no file\n",
            "no file\n",
            "no file\n",
            "no file\n",
            "no file\n",
            "no file\n",
            "no file\n",
            "no file\n",
            "no file\n",
            "no file\n",
            "no file\n",
            "no file\n",
            "no file\n",
            "no file\n",
            "no file\n",
            "no file\n",
            "no file\n",
            "no file\n",
            "no file\n",
            "no file\n",
            "no file\n",
            "no file\n",
            "no file\n",
            "no file\n",
            "no file\n",
            "no file\n",
            "no file\n",
            "no file\n",
            "no file\n",
            "no file\n",
            "no file\n",
            "no file\n",
            "no file\n",
            "no file\n",
            "no file\n",
            "no file\n",
            "no file\n",
            "no file\n",
            "no file\n",
            "no file\n",
            "no file\n",
            "no file\n",
            "no file\n",
            "no file\n",
            "no file\n",
            "no file\n",
            "no file\n",
            "no file\n",
            "no file\n",
            "no file\n",
            "no file\n",
            "no file\n",
            "no file\n",
            "no file\n",
            "no file\n",
            "no file\n",
            "no file\n",
            "no file\n",
            "no file\n",
            "no file\n",
            "no file\n",
            "no file\n",
            "no file\n",
            "no file\n",
            "no file\n",
            "no file\n",
            "no file\n",
            "no file\n",
            "no file\n",
            "no file\n",
            "no file\n",
            "no file\n",
            "no file\n",
            "no file\n",
            "no file\n",
            "no file\n",
            "no file\n",
            "no file\n",
            "no file\n",
            "no file\n",
            "no file\n",
            "no file\n",
            "no file\n",
            "no file\n",
            "no file\n",
            "no file\n",
            "no file\n",
            "no file\n",
            "no file\n",
            "no file\n",
            "no file\n",
            "no file\n",
            "no file\n",
            "no file\n",
            "no file\n",
            "no file\n",
            "no file\n",
            "no file\n",
            "no file\n",
            "no file\n",
            "no file\n",
            "no file\n",
            "no file\n",
            "no file\n",
            "no file\n",
            "no file\n",
            "no file\n",
            "no file\n",
            "no file\n",
            "no file\n",
            "no file\n",
            "no file\n",
            "no file\n",
            "no file\n",
            "no file\n",
            "no file\n",
            "no file\n",
            "no file\n",
            "no file\n",
            "no file\n",
            "no file\n",
            "no file\n",
            "no file\n",
            "no file\n",
            "no file\n",
            "no file\n",
            "no file\n",
            "no file\n",
            "no file\n",
            "no file\n",
            "no file\n",
            "no file\n",
            "no file\n",
            "no file\n",
            "no file\n",
            "no file\n",
            "no file\n",
            "no file\n",
            "no file\n",
            "no file\n",
            "no file\n",
            "no file\n",
            "no file\n",
            "no file\n",
            "no file\n",
            "no file\n",
            "no file\n",
            "no file\n",
            "no file\n",
            "no file\n",
            "no file\n",
            "no file\n",
            "no file\n",
            "no file\n",
            "no file\n",
            "no file\n",
            "no file\n",
            "no file\n",
            "no file\n",
            "no file\n",
            "no file\n",
            "no file\n"
          ]
        },
        {
          "output_type": "stream",
          "name": "stderr",
          "text": [
            "/usr/local/lib/python3.7/dist-packages/ipykernel_launcher.py:40: RuntimeWarning: invalid value encountered in true_divide\n",
            "/usr/local/lib/python3.7/dist-packages/ipykernel_launcher.py:40: RuntimeWarning: invalid value encountered in true_divide\n",
            "/usr/local/lib/python3.7/dist-packages/ipykernel_launcher.py:40: RuntimeWarning: invalid value encountered in true_divide\n",
            "/usr/local/lib/python3.7/dist-packages/ipykernel_launcher.py:40: RuntimeWarning: invalid value encountered in true_divide\n",
            "/usr/local/lib/python3.7/dist-packages/ipykernel_launcher.py:40: RuntimeWarning: invalid value encountered in true_divide\n"
          ]
        },
        {
          "output_type": "display_data",
          "data": {
            "image/png": "[encoded data removed]",
            "text/plain": [
              "<Figure size 432x288 with 1 Axes>"
            ]
          },
          "metadata": {
            "needs_background": "light"
          }
        }
      ],
      "source": [
        "fftlen = 8192\n",
        "# list of frequency values that are used to construct the feature values \n",
        "freqbins = [400,600,800,1000]   \n",
        "nrfreqbins = len(freqbins)\n",
        "\n",
        "# create numpy array 'X', initalized with all zero entries\n",
        "X = np.zeros((samplesize,nrfreqbins))    \n",
        "# create numpy array 'y' initalized with all one entries  \n",
        "y = np.ones((samplesize,1))                 \n",
        "\n",
        "covid19field = df['Covid19']  # read in the attribute \"Covid19\" from dataframe df \n",
        "\n",
        " \n",
        "fig, ax = plt.subplots()  \n",
        "\n",
        "# iterate over participants, the iteration variable is participant-id minus 1 \n",
        "\n",
        "for participantid_m1 in range(samplesize):    \n",
        "    # first construct filename for current participant\n",
        "    # the filename consists of three parts: 1. \"RecordingParicipant\", 2. the participant index, 3. \".wav\"\n",
        "    partfilename = \"RecordingParticipant%d\"%(participantid_m1+1)\n",
        "    # construct full-path by concatenating path with filename\n",
        "    fullfilename = pathbase+partfilename + \".wav\"\n",
        "    # check if file with given full-path exists\n",
        "    if os.path.isfile(fullfilename):\n",
        "        # load the recording from the wav file\n",
        "        fs, data = wavfile.read(fullfilename)    \n",
        "        # store the last N audio samples of the wav file in the numpy array audiosignal \n",
        "        audiosignal=data[-(fftlen+1):-1]  \n",
        "        # compute absolute values of DFT of length-N signal  \n",
        "        spectrum = np.abs(fft(audiosignal,fftlen))    \n",
        "    else:\n",
        "        # compute absolute values of fft with length N\n",
        "        spectrum = np.zeros(fftlen)       \n",
        "        print(\"no file\")     \n",
        "    if ((covid19field[participantid_m1]==\"n\")): \n",
        "        # set jth entry of numpy array `y` to -1 if j-th Individuals had been reported a Covid-19 infected\n",
        "        y[participantid_m1]=-1          \n",
        "    # construct feature vector by using spectrum values at frequencies 400,600,800,1000 \n",
        "    featurevec = spectrum[freqbins]/np.max(spectrum) \n",
        "    # store feature vector for r-th participant in the r-1 th row of 'X'\n",
        "    X[participantid_m1,:] = featurevec              \n",
        "    # check if the current participant belongs to the first four participants\n",
        "    if participantid_m1 in range(4): \n",
        "        # plot the feature vector entries for the participant \n",
        "        ax.plot(np.arange(nrfreqbins), featurevec,label=\"Participant %d\" % (participantid_m1+1)) # plotting t, a separately \n",
        "\n",
        "ax.set_xticks(range(len(freqbins)))\n",
        "ax.set_xticklabels(['x1','x2','x3','x4'])                      # add labels for histogram intervals using ax.set_xticklabels()\n",
        "plt.legend()\n",
        "plt.show()"
      ]
    },
    {
      "cell_type": "markdown",
      "metadata": {
        "id": "zsGig8sgmMqX"
      },
      "source": [
        "## Step 3 - Basic ML Methods"
      ]
    },
    {
      "cell_type": "markdown",
      "metadata": {
        "id": "kehL4kMCmMqZ"
      },
      "source": [
        "The code snippet below splits the datapoints into a training and a test set. The feature vectors and label values for datapoints in the training set are stored in the numpy array `X_train` and `y_train`. The feature vectors and label values for datapoints in the test set are stored in the numpy array `X_test` and `y_test`. "
      ]
    },
    {
      "cell_type": "code",
      "execution_count": null,
      "metadata": {
        "id": "JrZyjWfumMqa"
      },
      "outputs": [],
      "source": [
        "X_train, X_test, y_train, y_test = train_test_split(X, y, test_size=0.5, random_state=42) "
      ]
    },
    {
      "cell_type": "code",
      "execution_count": null,
      "metadata": {
        "colab": {
          "base_uri": "https://localhost:8080/",
          "height": 397
        },
        "id": "BM6z-fUfmMqb",
        "outputId": "d302a62f-50ac-4910-d0a2-6b06e026c74f"
      },
      "outputs": [
        {
          "output_type": "error",
          "ename": "ValueError",
          "evalue": "ignored",
          "traceback": [
            "\u001b[0;31m---------------------------------------------------------------------------\u001b[0m",
            "\u001b[0;31mValueError\u001b[0m                                Traceback (most recent call last)",
            "\u001b[0;32m<ipython-input-14-e7cbd5f78d3b>\u001b[0m in \u001b[0;36m<module>\u001b[0;34m()\u001b[0m\n\u001b[1;32m      1\u001b[0m \u001b[0mclf1\u001b[0m \u001b[0;34m=\u001b[0m \u001b[0mLogisticRegression\u001b[0m\u001b[0;34m(\u001b[0m\u001b[0;34m)\u001b[0m \u001b[0;31m# create a LogisticRegression() object \"clf1\"\u001b[0m\u001b[0;34m\u001b[0m\u001b[0;34m\u001b[0m\u001b[0m\n\u001b[0;32m----> 2\u001b[0;31m \u001b[0mclf1\u001b[0m\u001b[0;34m.\u001b[0m\u001b[0mfit\u001b[0m\u001b[0;34m(\u001b[0m\u001b[0mX_train\u001b[0m\u001b[0;34m,\u001b[0m \u001b[0my_train\u001b[0m\u001b[0;34m)\u001b[0m  \u001b[0;31m# learn a hypothesis on the training set using the method clf1.fit()\u001b[0m\u001b[0;34m\u001b[0m\u001b[0;34m\u001b[0m\u001b[0m\n\u001b[0m\u001b[1;32m      3\u001b[0m \u001b[0;34m\u001b[0m\u001b[0m\n\u001b[1;32m      4\u001b[0m \u001b[0mprint\u001b[0m\u001b[0;34m(\u001b[0m\u001b[0;34m\"trainset accuracy logistic regression: \"\u001b[0m\u001b[0;34m,\u001b[0m \u001b[0mclf1\u001b[0m\u001b[0;34m.\u001b[0m\u001b[0mscore\u001b[0m\u001b[0;34m(\u001b[0m\u001b[0mX_train\u001b[0m\u001b[0;34m,\u001b[0m\u001b[0my_train\u001b[0m\u001b[0;34m)\u001b[0m\u001b[0;34m)\u001b[0m\u001b[0;34m\u001b[0m\u001b[0;34m\u001b[0m\u001b[0m\n\u001b[1;32m      5\u001b[0m \u001b[0mprint\u001b[0m\u001b[0;34m(\u001b[0m\u001b[0;34m\"testset accuracy logistic regression: \"\u001b[0m\u001b[0;34m,\u001b[0m \u001b[0mclf1\u001b[0m\u001b[0;34m.\u001b[0m\u001b[0mscore\u001b[0m\u001b[0;34m(\u001b[0m\u001b[0mX_test\u001b[0m\u001b[0;34m,\u001b[0m\u001b[0my_test\u001b[0m\u001b[0;34m)\u001b[0m\u001b[0;34m)\u001b[0m\u001b[0;34m\u001b[0m\u001b[0;34m\u001b[0m\u001b[0m\n",
            "\u001b[0;32m/usr/local/lib/python3.7/dist-packages/sklearn/linear_model/_logistic.py\u001b[0m in \u001b[0;36mfit\u001b[0;34m(self, X, y, sample_weight)\u001b[0m\n\u001b[1;32m   1512\u001b[0m             \u001b[0mdtype\u001b[0m\u001b[0;34m=\u001b[0m\u001b[0m_dtype\u001b[0m\u001b[0;34m,\u001b[0m\u001b[0;34m\u001b[0m\u001b[0;34m\u001b[0m\u001b[0m\n\u001b[1;32m   1513\u001b[0m             \u001b[0morder\u001b[0m\u001b[0;34m=\u001b[0m\u001b[0;34m\"C\"\u001b[0m\u001b[0;34m,\u001b[0m\u001b[0;34m\u001b[0m\u001b[0;34m\u001b[0m\u001b[0m\n\u001b[0;32m-> 1514\u001b[0;31m             \u001b[0maccept_large_sparse\u001b[0m\u001b[0;34m=\u001b[0m\u001b[0msolver\u001b[0m \u001b[0;32mnot\u001b[0m \u001b[0;32min\u001b[0m \u001b[0;34m[\u001b[0m\u001b[0;34m\"liblinear\"\u001b[0m\u001b[0;34m,\u001b[0m \u001b[0;34m\"sag\"\u001b[0m\u001b[0;34m,\u001b[0m \u001b[0;34m\"saga\"\u001b[0m\u001b[0;34m]\u001b[0m\u001b[0;34m,\u001b[0m\u001b[0;34m\u001b[0m\u001b[0;34m\u001b[0m\u001b[0m\n\u001b[0m\u001b[1;32m   1515\u001b[0m         )\n\u001b[1;32m   1516\u001b[0m         \u001b[0mcheck_classification_targets\u001b[0m\u001b[0;34m(\u001b[0m\u001b[0my\u001b[0m\u001b[0;34m)\u001b[0m\u001b[0;34m\u001b[0m\u001b[0;34m\u001b[0m\u001b[0m\n",
            "\u001b[0;32m/usr/local/lib/python3.7/dist-packages/sklearn/base.py\u001b[0m in \u001b[0;36m_validate_data\u001b[0;34m(self, X, y, reset, validate_separately, **check_params)\u001b[0m\n\u001b[1;32m    579\u001b[0m                 \u001b[0my\u001b[0m \u001b[0;34m=\u001b[0m \u001b[0mcheck_array\u001b[0m\u001b[0;34m(\u001b[0m\u001b[0my\u001b[0m\u001b[0;34m,\u001b[0m \u001b[0;34m**\u001b[0m\u001b[0mcheck_y_params\u001b[0m\u001b[0;34m)\u001b[0m\u001b[0;34m\u001b[0m\u001b[0;34m\u001b[0m\u001b[0m\n\u001b[1;32m    580\u001b[0m             \u001b[0;32melse\u001b[0m\u001b[0;34m:\u001b[0m\u001b[0;34m\u001b[0m\u001b[0;34m\u001b[0m\u001b[0m\n\u001b[0;32m--> 581\u001b[0;31m                 \u001b[0mX\u001b[0m\u001b[0;34m,\u001b[0m \u001b[0my\u001b[0m \u001b[0;34m=\u001b[0m \u001b[0mcheck_X_y\u001b[0m\u001b[0;34m(\u001b[0m\u001b[0mX\u001b[0m\u001b[0;34m,\u001b[0m \u001b[0my\u001b[0m\u001b[0;34m,\u001b[0m \u001b[0;34m**\u001b[0m\u001b[0mcheck_params\u001b[0m\u001b[0;34m)\u001b[0m\u001b[0;34m\u001b[0m\u001b[0;34m\u001b[0m\u001b[0m\n\u001b[0m\u001b[1;32m    582\u001b[0m             \u001b[0mout\u001b[0m \u001b[0;34m=\u001b[0m \u001b[0mX\u001b[0m\u001b[0;34m,\u001b[0m \u001b[0my\u001b[0m\u001b[0;34m\u001b[0m\u001b[0;34m\u001b[0m\u001b[0m\n\u001b[1;32m    583\u001b[0m \u001b[0;34m\u001b[0m\u001b[0m\n",
            "\u001b[0;32m/usr/local/lib/python3.7/dist-packages/sklearn/utils/validation.py\u001b[0m in \u001b[0;36mcheck_X_y\u001b[0;34m(X, y, accept_sparse, accept_large_sparse, dtype, order, copy, force_all_finite, ensure_2d, allow_nd, multi_output, ensure_min_samples, ensure_min_features, y_numeric, estimator)\u001b[0m\n\u001b[1;32m    974\u001b[0m         \u001b[0mensure_min_samples\u001b[0m\u001b[0;34m=\u001b[0m\u001b[0mensure_min_samples\u001b[0m\u001b[0;34m,\u001b[0m\u001b[0;34m\u001b[0m\u001b[0;34m\u001b[0m\u001b[0m\n\u001b[1;32m    975\u001b[0m         \u001b[0mensure_min_features\u001b[0m\u001b[0;34m=\u001b[0m\u001b[0mensure_min_features\u001b[0m\u001b[0;34m,\u001b[0m\u001b[0;34m\u001b[0m\u001b[0;34m\u001b[0m\u001b[0m\n\u001b[0;32m--> 976\u001b[0;31m         \u001b[0mestimator\u001b[0m\u001b[0;34m=\u001b[0m\u001b[0mestimator\u001b[0m\u001b[0;34m,\u001b[0m\u001b[0;34m\u001b[0m\u001b[0;34m\u001b[0m\u001b[0m\n\u001b[0m\u001b[1;32m    977\u001b[0m     )\n\u001b[1;32m    978\u001b[0m \u001b[0;34m\u001b[0m\u001b[0m\n",
            "\u001b[0;32m/usr/local/lib/python3.7/dist-packages/sklearn/utils/validation.py\u001b[0m in \u001b[0;36mcheck_array\u001b[0;34m(array, accept_sparse, accept_large_sparse, dtype, order, copy, force_all_finite, ensure_2d, allow_nd, ensure_min_samples, ensure_min_features, estimator)\u001b[0m\n\u001b[1;32m    798\u001b[0m \u001b[0;34m\u001b[0m\u001b[0m\n\u001b[1;32m    799\u001b[0m         \u001b[0;32mif\u001b[0m \u001b[0mforce_all_finite\u001b[0m\u001b[0;34m:\u001b[0m\u001b[0;34m\u001b[0m\u001b[0;34m\u001b[0m\u001b[0m\n\u001b[0;32m--> 800\u001b[0;31m             \u001b[0m_assert_all_finite\u001b[0m\u001b[0;34m(\u001b[0m\u001b[0marray\u001b[0m\u001b[0;34m,\u001b[0m \u001b[0mallow_nan\u001b[0m\u001b[0;34m=\u001b[0m\u001b[0mforce_all_finite\u001b[0m \u001b[0;34m==\u001b[0m \u001b[0;34m\"allow-nan\"\u001b[0m\u001b[0;34m)\u001b[0m\u001b[0;34m\u001b[0m\u001b[0;34m\u001b[0m\u001b[0m\n\u001b[0m\u001b[1;32m    801\u001b[0m \u001b[0;34m\u001b[0m\u001b[0m\n\u001b[1;32m    802\u001b[0m     \u001b[0;32mif\u001b[0m \u001b[0mensure_min_samples\u001b[0m \u001b[0;34m>\u001b[0m \u001b[0;36m0\u001b[0m\u001b[0;34m:\u001b[0m\u001b[0;34m\u001b[0m\u001b[0;34m\u001b[0m\u001b[0m\n",
            "\u001b[0;32m/usr/local/lib/python3.7/dist-packages/sklearn/utils/validation.py\u001b[0m in \u001b[0;36m_assert_all_finite\u001b[0;34m(X, allow_nan, msg_dtype)\u001b[0m\n\u001b[1;32m    114\u001b[0m             raise ValueError(\n\u001b[1;32m    115\u001b[0m                 msg_err.format(\n\u001b[0;32m--> 116\u001b[0;31m                     \u001b[0mtype_err\u001b[0m\u001b[0;34m,\u001b[0m \u001b[0mmsg_dtype\u001b[0m \u001b[0;32mif\u001b[0m \u001b[0mmsg_dtype\u001b[0m \u001b[0;32mis\u001b[0m \u001b[0;32mnot\u001b[0m \u001b[0;32mNone\u001b[0m \u001b[0;32melse\u001b[0m \u001b[0mX\u001b[0m\u001b[0;34m.\u001b[0m\u001b[0mdtype\u001b[0m\u001b[0;34m\u001b[0m\u001b[0;34m\u001b[0m\u001b[0m\n\u001b[0m\u001b[1;32m    117\u001b[0m                 )\n\u001b[1;32m    118\u001b[0m             )\n",
            "\u001b[0;31mValueError\u001b[0m: Input contains NaN, infinity or a value too large for dtype('float64')."
          ]
        }
      ],
      "source": [
        "clf1 = LogisticRegression() # create a LogisticRegression() object \"clf1\"\n",
        "clf1.fit(X_train, y_train)  # learn a hypothesis on the training set using the method clf1.fit() \n",
        "\n",
        "print(\"trainset accuracy logistic regression: \", clf1.score(X_train,y_train))\n",
        "print(\"testset accuracy logistic regression: \", clf1.score(X_test,y_test))\n",
        "\n",
        "clf2 = tree.DecisionTreeClassifier() # create a DecitionTreeClassifier() object \"clf2\" using \"max_depth=1\"\n",
        "clf2 = clf2.fit(X_train, y_train) # learn a hypothesis on the training set using the method clf2.fit() \n",
        "\n",
        "print(\"trainset accuracy decision tree: \", clf2.score(X_train,y_train))\n",
        "print(\"testset accuracy decision tree: \", clf2.score(X_test,y_test))\n",
        "\n",
        "print(X_train.shape)\n",
        "\n",
        "print(\"feature coefficients obtained from logistic regression:\", clf1.coef_/np.linalg.norm(clf1.coef_))\n",
        "print(\"feature importances obtained from decision tree:\",clf2.tree_.compute_feature_importances(normalize=False))"
      ]
    },
    {
      "cell_type": "code",
      "source": [
        ""
      ],
      "metadata": {
        "id": "oUa6LRfHpddt"
      },
      "execution_count": null,
      "outputs": []
    }
  ],
  "metadata": {
    "kernelspec": {
      "display_name": "Python 3 (ipykernel)",
      "language": "python",
      "name": "python3"
    },
    "language_info": {
      "codemirror_mode": {
        "name": "ipython",
        "version": 3
      },
      "file_extension": ".py",
      "mimetype": "text/x-python",
      "name": "python",
      "nbconvert_exporter": "python",
      "pygments_lexer": "ipython3",
      "version": "3.9.7"
    },
    "colab": {
      "name": "Part 1 - Status and Cough.ipynb",
      "provenance": [],
      "collapsed_sections": [],
      "include_colab_link": true
    }
  },
  "nbformat": 4,
  "nbformat_minor": 0
}